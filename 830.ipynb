{
 "cells": [
  {
   "cell_type": "code",
   "execution_count": 1,
   "metadata": {},
   "outputs": [],
   "source": [
    "import pandas as pd\n",
    "import seaborn as sns\n",
    "import numpy as np\n",
    "import re"
   ]
  },
  {
   "cell_type": "markdown",
   "metadata": {},
   "source": [
    "## Data ingestion and pre-processing"
   ]
  },
  {
   "cell_type": "code",
   "execution_count": 2,
   "metadata": {},
   "outputs": [],
   "source": [
    "response = pd.read_csv('response.csv')\n",
    "page = pd.read_csv('pagelist.csv', header = 1)\n",
    "record = pd.read_csv('recording.csv', header = 1)"
   ]
  },
  {
   "cell_type": "code",
   "execution_count": 3,
   "metadata": {},
   "outputs": [],
   "source": [
    "# take useful cols\n",
    "response.columns = ['Time', 'uniqueid', 'age', 'gender', 'education', 'freq']"
   ]
  },
  {
   "cell_type": "code",
   "execution_count": 4,
   "metadata": {},
   "outputs": [],
   "source": [
    "response.drop(columns = 'Time', inplace=True)"
   ]
  },
  {
   "cell_type": "code",
   "execution_count": 5,
   "metadata": {
    "scrolled": true
   },
   "outputs": [
    {
     "data": {
      "text/html": [
       "<div>\n",
       "<style scoped>\n",
       "    .dataframe tbody tr th:only-of-type {\n",
       "        vertical-align: middle;\n",
       "    }\n",
       "\n",
       "    .dataframe tbody tr th {\n",
       "        vertical-align: top;\n",
       "    }\n",
       "\n",
       "    .dataframe thead th {\n",
       "        text-align: right;\n",
       "    }\n",
       "</style>\n",
       "<table border=\"1\" class=\"dataframe\">\n",
       "  <thead>\n",
       "    <tr style=\"text-align: right;\">\n",
       "      <th></th>\n",
       "      <th>uniqueid</th>\n",
       "      <th>age</th>\n",
       "      <th>gender</th>\n",
       "      <th>education</th>\n",
       "      <th>freq</th>\n",
       "    </tr>\n",
       "  </thead>\n",
       "  <tbody>\n",
       "    <tr>\n",
       "      <th>375</th>\n",
       "      <td>0.9102548047</td>\n",
       "      <td>25 ~ 34 years old</td>\n",
       "      <td>Male</td>\n",
       "      <td>Master’s degree</td>\n",
       "      <td>At least once a week</td>\n",
       "    </tr>\n",
       "    <tr>\n",
       "      <th>58</th>\n",
       "      <td>0.6002320745</td>\n",
       "      <td>18 ~ 24 years old</td>\n",
       "      <td>Female</td>\n",
       "      <td>Master’s degree</td>\n",
       "      <td>At least once a week</td>\n",
       "    </tr>\n",
       "    <tr>\n",
       "      <th>6</th>\n",
       "      <td>0.5810475076</td>\n",
       "      <td>18 ~ 24 years old</td>\n",
       "      <td>Female</td>\n",
       "      <td>Master’s degree</td>\n",
       "      <td>At least once a month</td>\n",
       "    </tr>\n",
       "  </tbody>\n",
       "</table>\n",
       "</div>"
      ],
      "text/plain": [
       "         uniqueid                age  gender        education  \\\n",
       "375  0.9102548047  25 ~ 34 years old    Male  Master’s degree   \n",
       "58   0.6002320745  18 ~ 24 years old  Female  Master’s degree   \n",
       "6    0.5810475076  18 ~ 24 years old  Female  Master’s degree   \n",
       "\n",
       "                      freq  \n",
       "375   At least once a week  \n",
       "58    At least once a week  \n",
       "6    At least once a month  "
      ]
     },
     "execution_count": 5,
     "metadata": {},
     "output_type": "execute_result"
    }
   ],
   "source": [
    "response.sample(3)"
   ]
  },
  {
   "cell_type": "code",
   "execution_count": 6,
   "metadata": {},
   "outputs": [
    {
     "data": {
      "text/plain": [
       "(523, 5)"
      ]
     },
     "execution_count": 6,
     "metadata": {},
     "output_type": "execute_result"
    }
   ],
   "source": [
    "response.shape"
   ]
  },
  {
   "cell_type": "code",
   "execution_count": 7,
   "metadata": {},
   "outputs": [
    {
     "data": {
      "text/html": [
       "<div>\n",
       "<style scoped>\n",
       "    .dataframe tbody tr th:only-of-type {\n",
       "        vertical-align: middle;\n",
       "    }\n",
       "\n",
       "    .dataframe tbody tr th {\n",
       "        vertical-align: top;\n",
       "    }\n",
       "\n",
       "    .dataframe thead th {\n",
       "        text-align: right;\n",
       "    }\n",
       "</style>\n",
       "<table border=\"1\" class=\"dataframe\">\n",
       "  <thead>\n",
       "    <tr style=\"text-align: right;\">\n",
       "      <th></th>\n",
       "      <th>displayUrl</th>\n",
       "      <th>uri</th>\n",
       "      <th>starred</th>\n",
       "      <th>title</th>\n",
       "      <th>views</th>\n",
       "      <th>visitTime</th>\n",
       "      <th>engagementTime</th>\n",
       "      <th>clicks</th>\n",
       "      <th>friction</th>\n",
       "      <th>renderTime</th>\n",
       "      <th>scroll</th>\n",
       "      <th>fold</th>\n",
       "      <th>height</th>\n",
       "      <th>size</th>\n",
       "      <th>totalSessions</th>\n",
       "      <th>entry</th>\n",
       "      <th>exit</th>\n",
       "    </tr>\n",
       "  </thead>\n",
       "  <tbody>\n",
       "    <tr>\n",
       "      <th>0</th>\n",
       "      <td>/experiment/ab-login_button/end.html#onloadvar...</td>\n",
       "      <td>https://weijia.io/Experiment/AB-Login_Button/e...</td>\n",
       "      <td>False</td>\n",
       "      <td>End</td>\n",
       "      <td>4</td>\n",
       "      <td>5871</td>\n",
       "      <td>8055</td>\n",
       "      <td>1</td>\n",
       "      <td>0.500000</td>\n",
       "      <td>8</td>\n",
       "      <td>100</td>\n",
       "      <td>625</td>\n",
       "      <td>625</td>\n",
       "      <td>3612</td>\n",
       "      <td>0</td>\n",
       "      <td>0</td>\n",
       "      <td>0</td>\n",
       "    </tr>\n",
       "    <tr>\n",
       "      <th>1</th>\n",
       "      <td>/experiment/ab-login_button/a.html#onloadvaria...</td>\n",
       "      <td>https://weijia.io/Experiment/AB-Login_Button/a...</td>\n",
       "      <td>False</td>\n",
       "      <td>A</td>\n",
       "      <td>3</td>\n",
       "      <td>24572</td>\n",
       "      <td>26374</td>\n",
       "      <td>2</td>\n",
       "      <td>0.333333</td>\n",
       "      <td>120</td>\n",
       "      <td>100</td>\n",
       "      <td>625</td>\n",
       "      <td>766</td>\n",
       "      <td>10555</td>\n",
       "      <td>0</td>\n",
       "      <td>0</td>\n",
       "      <td>0</td>\n",
       "    </tr>\n",
       "    <tr>\n",
       "      <th>2</th>\n",
       "      <td>/experiment/ab-login_button/b.html#onloadvaria...</td>\n",
       "      <td>https://weijia.io/Experiment/AB-Login_Button/b...</td>\n",
       "      <td>False</td>\n",
       "      <td>B</td>\n",
       "      <td>3</td>\n",
       "      <td>27231</td>\n",
       "      <td>27233</td>\n",
       "      <td>37</td>\n",
       "      <td>3.666667</td>\n",
       "      <td>533</td>\n",
       "      <td>100</td>\n",
       "      <td>625</td>\n",
       "      <td>779</td>\n",
       "      <td>9051</td>\n",
       "      <td>0</td>\n",
       "      <td>0</td>\n",
       "      <td>0</td>\n",
       "    </tr>\n",
       "    <tr>\n",
       "      <th>3</th>\n",
       "      <td>/experiment/ab-login_button/b.html#onloadvaria...</td>\n",
       "      <td>https://weijia.io/Experiment/AB-Login_Button/b...</td>\n",
       "      <td>False</td>\n",
       "      <td>B</td>\n",
       "      <td>3</td>\n",
       "      <td>8292</td>\n",
       "      <td>8326</td>\n",
       "      <td>3</td>\n",
       "      <td>0.000000</td>\n",
       "      <td>958</td>\n",
       "      <td>86</td>\n",
       "      <td>609</td>\n",
       "      <td>765</td>\n",
       "      <td>5210</td>\n",
       "      <td>0</td>\n",
       "      <td>0</td>\n",
       "      <td>0</td>\n",
       "    </tr>\n",
       "    <tr>\n",
       "      <th>4</th>\n",
       "      <td>/experiment/ab-login_button/c.html#onloadvaria...</td>\n",
       "      <td>https://weijia.io/Experiment/AB-Login_Button/c...</td>\n",
       "      <td>False</td>\n",
       "      <td>C</td>\n",
       "      <td>3</td>\n",
       "      <td>15316</td>\n",
       "      <td>15180</td>\n",
       "      <td>79</td>\n",
       "      <td>1.666667</td>\n",
       "      <td>239</td>\n",
       "      <td>99</td>\n",
       "      <td>757</td>\n",
       "      <td>766</td>\n",
       "      <td>11059</td>\n",
       "      <td>0</td>\n",
       "      <td>0</td>\n",
       "      <td>0</td>\n",
       "    </tr>\n",
       "    <tr>\n",
       "      <th>...</th>\n",
       "      <td>...</td>\n",
       "      <td>...</td>\n",
       "      <td>...</td>\n",
       "      <td>...</td>\n",
       "      <td>...</td>\n",
       "      <td>...</td>\n",
       "      <td>...</td>\n",
       "      <td>...</td>\n",
       "      <td>...</td>\n",
       "      <td>...</td>\n",
       "      <td>...</td>\n",
       "      <td>...</td>\n",
       "      <td>...</td>\n",
       "      <td>...</td>\n",
       "      <td>...</td>\n",
       "      <td>...</td>\n",
       "      <td>...</td>\n",
       "    </tr>\n",
       "    <tr>\n",
       "      <th>376</th>\n",
       "      <td>/experiment/ab-login_button/end.html#onloadvar...</td>\n",
       "      <td>https://weijia.io/Experiment/AB-Login_Button/e...</td>\n",
       "      <td>False</td>\n",
       "      <td>End</td>\n",
       "      <td>1</td>\n",
       "      <td>20002</td>\n",
       "      <td>13564</td>\n",
       "      <td>2</td>\n",
       "      <td>0.000000</td>\n",
       "      <td>18</td>\n",
       "      <td>100</td>\n",
       "      <td>1716</td>\n",
       "      <td>1716</td>\n",
       "      <td>3539</td>\n",
       "      <td>0</td>\n",
       "      <td>0</td>\n",
       "      <td>0</td>\n",
       "    </tr>\n",
       "    <tr>\n",
       "      <th>377</th>\n",
       "      <td>/experiment/ab-login_button/end.html#onloadvar...</td>\n",
       "      <td>https://weijia.io/Experiment/AB-Login_Button/e...</td>\n",
       "      <td>False</td>\n",
       "      <td>End</td>\n",
       "      <td>1</td>\n",
       "      <td>61988</td>\n",
       "      <td>31537</td>\n",
       "      <td>1</td>\n",
       "      <td>1.000000</td>\n",
       "      <td>25</td>\n",
       "      <td>100</td>\n",
       "      <td>911</td>\n",
       "      <td>911</td>\n",
       "      <td>3612</td>\n",
       "      <td>0</td>\n",
       "      <td>0</td>\n",
       "      <td>0</td>\n",
       "    </tr>\n",
       "    <tr>\n",
       "      <th>378</th>\n",
       "      <td>/experiment/ab-login_button/end.html#onloadvar...</td>\n",
       "      <td>https://weijia.io/Experiment/AB-Login_Button/e...</td>\n",
       "      <td>False</td>\n",
       "      <td>End</td>\n",
       "      <td>1</td>\n",
       "      <td>104845</td>\n",
       "      <td>33962</td>\n",
       "      <td>0</td>\n",
       "      <td>1.000000</td>\n",
       "      <td>5</td>\n",
       "      <td>100</td>\n",
       "      <td>671</td>\n",
       "      <td>671</td>\n",
       "      <td>3539</td>\n",
       "      <td>0</td>\n",
       "      <td>0</td>\n",
       "      <td>0</td>\n",
       "    </tr>\n",
       "    <tr>\n",
       "      <th>379</th>\n",
       "      <td>/experiment/ab-login_button/end.html#onloadvar...</td>\n",
       "      <td>https://weijia.io/Experiment/AB-Login_Button/e...</td>\n",
       "      <td>False</td>\n",
       "      <td>End</td>\n",
       "      <td>1</td>\n",
       "      <td>50547</td>\n",
       "      <td>10500</td>\n",
       "      <td>1</td>\n",
       "      <td>1.000000</td>\n",
       "      <td>16</td>\n",
       "      <td>100</td>\n",
       "      <td>657</td>\n",
       "      <td>657</td>\n",
       "      <td>3612</td>\n",
       "      <td>0</td>\n",
       "      <td>0</td>\n",
       "      <td>0</td>\n",
       "    </tr>\n",
       "    <tr>\n",
       "      <th>380</th>\n",
       "      <td>/experiment/ab-login_button/end.html#onloadvar...</td>\n",
       "      <td>https://weijia.io/Experiment/AB-Login_Button/e...</td>\n",
       "      <td>False</td>\n",
       "      <td>End</td>\n",
       "      <td>1</td>\n",
       "      <td>10254</td>\n",
       "      <td>10254</td>\n",
       "      <td>0</td>\n",
       "      <td>1.000000</td>\n",
       "      <td>32</td>\n",
       "      <td>100</td>\n",
       "      <td>625</td>\n",
       "      <td>625</td>\n",
       "      <td>3728</td>\n",
       "      <td>0</td>\n",
       "      <td>0</td>\n",
       "      <td>0</td>\n",
       "    </tr>\n",
       "  </tbody>\n",
       "</table>\n",
       "<p>381 rows × 17 columns</p>\n",
       "</div>"
      ],
      "text/plain": [
       "                                            displayUrl  \\\n",
       "0    /experiment/ab-login_button/end.html#onloadvar...   \n",
       "1    /experiment/ab-login_button/a.html#onloadvaria...   \n",
       "2    /experiment/ab-login_button/b.html#onloadvaria...   \n",
       "3    /experiment/ab-login_button/b.html#onloadvaria...   \n",
       "4    /experiment/ab-login_button/c.html#onloadvaria...   \n",
       "..                                                 ...   \n",
       "376  /experiment/ab-login_button/end.html#onloadvar...   \n",
       "377  /experiment/ab-login_button/end.html#onloadvar...   \n",
       "378  /experiment/ab-login_button/end.html#onloadvar...   \n",
       "379  /experiment/ab-login_button/end.html#onloadvar...   \n",
       "380  /experiment/ab-login_button/end.html#onloadvar...   \n",
       "\n",
       "                                                   uri  starred title  views  \\\n",
       "0    https://weijia.io/Experiment/AB-Login_Button/e...    False   End      4   \n",
       "1    https://weijia.io/Experiment/AB-Login_Button/a...    False     A      3   \n",
       "2    https://weijia.io/Experiment/AB-Login_Button/b...    False     B      3   \n",
       "3    https://weijia.io/Experiment/AB-Login_Button/b...    False     B      3   \n",
       "4    https://weijia.io/Experiment/AB-Login_Button/c...    False     C      3   \n",
       "..                                                 ...      ...   ...    ...   \n",
       "376  https://weijia.io/Experiment/AB-Login_Button/e...    False   End      1   \n",
       "377  https://weijia.io/Experiment/AB-Login_Button/e...    False   End      1   \n",
       "378  https://weijia.io/Experiment/AB-Login_Button/e...    False   End      1   \n",
       "379  https://weijia.io/Experiment/AB-Login_Button/e...    False   End      1   \n",
       "380  https://weijia.io/Experiment/AB-Login_Button/e...    False   End      1   \n",
       "\n",
       "     visitTime  engagementTime  clicks  friction  renderTime  scroll  fold  \\\n",
       "0         5871            8055       1  0.500000           8     100   625   \n",
       "1        24572           26374       2  0.333333         120     100   625   \n",
       "2        27231           27233      37  3.666667         533     100   625   \n",
       "3         8292            8326       3  0.000000         958      86   609   \n",
       "4        15316           15180      79  1.666667         239      99   757   \n",
       "..         ...             ...     ...       ...         ...     ...   ...   \n",
       "376      20002           13564       2  0.000000          18     100  1716   \n",
       "377      61988           31537       1  1.000000          25     100   911   \n",
       "378     104845           33962       0  1.000000           5     100   671   \n",
       "379      50547           10500       1  1.000000          16     100   657   \n",
       "380      10254           10254       0  1.000000          32     100   625   \n",
       "\n",
       "     height   size  totalSessions  entry  exit  \n",
       "0       625   3612              0      0     0  \n",
       "1       766  10555              0      0     0  \n",
       "2       779   9051              0      0     0  \n",
       "3       765   5210              0      0     0  \n",
       "4       766  11059              0      0     0  \n",
       "..      ...    ...            ...    ...   ...  \n",
       "376    1716   3539              0      0     0  \n",
       "377     911   3612              0      0     0  \n",
       "378     671   3539              0      0     0  \n",
       "379     657   3612              0      0     0  \n",
       "380     625   3728              0      0     0  \n",
       "\n",
       "[381 rows x 17 columns]"
      ]
     },
     "execution_count": 7,
     "metadata": {},
     "output_type": "execute_result"
    }
   ],
   "source": [
    "page"
   ]
  },
  {
   "cell_type": "code",
   "execution_count": 8,
   "metadata": {},
   "outputs": [],
   "source": [
    "page = page[['displayUrl', 'title', 'views', 'visitTime', 'engagementTime', 'clicks', 'friction', \n",
    "            'renderTime', 'scroll', 'fold', 'height', 'size']]"
   ]
  },
  {
   "cell_type": "code",
   "execution_count": 9,
   "metadata": {
    "scrolled": true
   },
   "outputs": [
    {
     "data": {
      "text/plain": [
       "(381, 12)"
      ]
     },
     "execution_count": 9,
     "metadata": {},
     "output_type": "execute_result"
    }
   ],
   "source": [
    "page.shape"
   ]
  },
  {
   "cell_type": "code",
   "execution_count": 10,
   "metadata": {
    "scrolled": true
   },
   "outputs": [
    {
     "data": {
      "text/html": [
       "<div>\n",
       "<style scoped>\n",
       "    .dataframe tbody tr th:only-of-type {\n",
       "        vertical-align: middle;\n",
       "    }\n",
       "\n",
       "    .dataframe tbody tr th {\n",
       "        vertical-align: top;\n",
       "    }\n",
       "\n",
       "    .dataframe thead th {\n",
       "        text-align: right;\n",
       "    }\n",
       "</style>\n",
       "<table border=\"1\" class=\"dataframe\">\n",
       "  <thead>\n",
       "    <tr style=\"text-align: right;\">\n",
       "      <th></th>\n",
       "      <th>displayUrl</th>\n",
       "      <th>title</th>\n",
       "      <th>views</th>\n",
       "      <th>visitTime</th>\n",
       "      <th>engagementTime</th>\n",
       "      <th>clicks</th>\n",
       "      <th>friction</th>\n",
       "      <th>renderTime</th>\n",
       "      <th>scroll</th>\n",
       "      <th>fold</th>\n",
       "      <th>height</th>\n",
       "      <th>size</th>\n",
       "    </tr>\n",
       "  </thead>\n",
       "  <tbody>\n",
       "    <tr>\n",
       "      <th>288</th>\n",
       "      <td>/experiment/ab-login_button/end.html#onloadvar...</td>\n",
       "      <td>End</td>\n",
       "      <td>1</td>\n",
       "      <td>58987</td>\n",
       "      <td>17505</td>\n",
       "      <td>2</td>\n",
       "      <td>1.0</td>\n",
       "      <td>26</td>\n",
       "      <td>100</td>\n",
       "      <td>937</td>\n",
       "      <td>937</td>\n",
       "      <td>3612</td>\n",
       "    </tr>\n",
       "    <tr>\n",
       "      <th>331</th>\n",
       "      <td>/experiment/ab-login_button/end.html#onloadvar...</td>\n",
       "      <td>End</td>\n",
       "      <td>1</td>\n",
       "      <td>14092</td>\n",
       "      <td>9254</td>\n",
       "      <td>0</td>\n",
       "      <td>0.0</td>\n",
       "      <td>34</td>\n",
       "      <td>100</td>\n",
       "      <td>1857</td>\n",
       "      <td>1857</td>\n",
       "      <td>3539</td>\n",
       "    </tr>\n",
       "    <tr>\n",
       "      <th>203</th>\n",
       "      <td>/experiment/ab-login_button/d.html#onloadvaria...</td>\n",
       "      <td>D</td>\n",
       "      <td>1</td>\n",
       "      <td>60768</td>\n",
       "      <td>30023</td>\n",
       "      <td>2</td>\n",
       "      <td>1.0</td>\n",
       "      <td>4262</td>\n",
       "      <td>100</td>\n",
       "      <td>657</td>\n",
       "      <td>766</td>\n",
       "      <td>10530</td>\n",
       "    </tr>\n",
       "  </tbody>\n",
       "</table>\n",
       "</div>"
      ],
      "text/plain": [
       "                                            displayUrl title  views  \\\n",
       "288  /experiment/ab-login_button/end.html#onloadvar...   End      1   \n",
       "331  /experiment/ab-login_button/end.html#onloadvar...   End      1   \n",
       "203  /experiment/ab-login_button/d.html#onloadvaria...     D      1   \n",
       "\n",
       "     visitTime  engagementTime  clicks  friction  renderTime  scroll  fold  \\\n",
       "288      58987           17505       2       1.0          26     100   937   \n",
       "331      14092            9254       0       0.0          34     100  1857   \n",
       "203      60768           30023       2       1.0        4262     100   657   \n",
       "\n",
       "     height   size  \n",
       "288     937   3612  \n",
       "331    1857   3539  \n",
       "203     766  10530  "
      ]
     },
     "execution_count": 10,
     "metadata": {},
     "output_type": "execute_result"
    }
   ],
   "source": [
    "page.sample(3)"
   ]
  },
  {
   "cell_type": "code",
   "execution_count": 11,
   "metadata": {},
   "outputs": [],
   "source": [
    "record = record[['pageViews', 'pages', 'duration', 'country', 'browser', 'os', 'lng', 'lat']]"
   ]
  },
  {
   "cell_type": "code",
   "execution_count": 12,
   "metadata": {},
   "outputs": [
    {
     "data": {
      "text/plain": [
       "(243, 8)"
      ]
     },
     "execution_count": 12,
     "metadata": {},
     "output_type": "execute_result"
    }
   ],
   "source": [
    "record.shape"
   ]
  },
  {
   "cell_type": "code",
   "execution_count": 13,
   "metadata": {
    "scrolled": false
   },
   "outputs": [
    {
     "data": {
      "text/html": [
       "<div>\n",
       "<style scoped>\n",
       "    .dataframe tbody tr th:only-of-type {\n",
       "        vertical-align: middle;\n",
       "    }\n",
       "\n",
       "    .dataframe tbody tr th {\n",
       "        vertical-align: top;\n",
       "    }\n",
       "\n",
       "    .dataframe thead th {\n",
       "        text-align: right;\n",
       "    }\n",
       "</style>\n",
       "<table border=\"1\" class=\"dataframe\">\n",
       "  <thead>\n",
       "    <tr style=\"text-align: right;\">\n",
       "      <th></th>\n",
       "      <th>pageViews</th>\n",
       "      <th>pages</th>\n",
       "      <th>duration</th>\n",
       "      <th>country</th>\n",
       "      <th>browser</th>\n",
       "      <th>os</th>\n",
       "      <th>lng</th>\n",
       "      <th>lat</th>\n",
       "    </tr>\n",
       "  </thead>\n",
       "  <tbody>\n",
       "    <tr>\n",
       "      <th>34</th>\n",
       "      <td>/experiment/ab-login_button/b.html#onloadvaria...</td>\n",
       "      <td>1</td>\n",
       "      <td>4976</td>\n",
       "      <td>in</td>\n",
       "      <td>Chrome</td>\n",
       "      <td>Windows</td>\n",
       "      <td>80.2209</td>\n",
       "      <td>12.8996</td>\n",
       "    </tr>\n",
       "    <tr>\n",
       "      <th>85</th>\n",
       "      <td>/experiment/ab-login_button/b.html#onloadvaria...</td>\n",
       "      <td>2</td>\n",
       "      <td>61687</td>\n",
       "      <td>us</td>\n",
       "      <td>Chrome</td>\n",
       "      <td>Windows</td>\n",
       "      <td>-96.8050</td>\n",
       "      <td>32.7767</td>\n",
       "    </tr>\n",
       "    <tr>\n",
       "      <th>129</th>\n",
       "      <td>/experiment/ab-login_button/d.html#onloadvaria...</td>\n",
       "      <td>2</td>\n",
       "      <td>121054</td>\n",
       "      <td>us</td>\n",
       "      <td>Firefox</td>\n",
       "      <td>Windows</td>\n",
       "      <td>-81.6492</td>\n",
       "      <td>30.3298</td>\n",
       "    </tr>\n",
       "  </tbody>\n",
       "</table>\n",
       "</div>"
      ],
      "text/plain": [
       "                                             pageViews  pages  duration  \\\n",
       "34   /experiment/ab-login_button/b.html#onloadvaria...      1      4976   \n",
       "85   /experiment/ab-login_button/b.html#onloadvaria...      2     61687   \n",
       "129  /experiment/ab-login_button/d.html#onloadvaria...      2    121054   \n",
       "\n",
       "    country  browser       os      lng      lat  \n",
       "34       in   Chrome  Windows  80.2209  12.8996  \n",
       "85       us   Chrome  Windows -96.8050  32.7767  \n",
       "129      us  Firefox  Windows -81.6492  30.3298  "
      ]
     },
     "execution_count": 13,
     "metadata": {},
     "output_type": "execute_result"
    }
   ],
   "source": [
    "record.sample(3)"
   ]
  },
  {
   "cell_type": "markdown",
   "metadata": {},
   "source": [
    "## Extract unique ID"
   ]
  },
  {
   "cell_type": "code",
   "execution_count": 14,
   "metadata": {
    "scrolled": false
   },
   "outputs": [
    {
     "name": "stderr",
     "output_type": "stream",
     "text": [
      "D:\\APP\\Anaconda\\lib\\site-packages\\pandas\\core\\frame.py:4296: SettingWithCopyWarning: \n",
      "A value is trying to be set on a copy of a slice from a DataFrame\n",
      "\n",
      "See the caveats in the documentation: https://pandas.pydata.org/pandas-docs/stable/user_guide/indexing.html#returning-a-view-versus-a-copy\n",
      "  return super().rename(\n"
     ]
    }
   ],
   "source": [
    "page['displayUrl'].sample(3)\n",
    "page.rename(columns = {'displayUrl': 'uniqueid'}, inplace= True )"
   ]
  },
  {
   "cell_type": "code",
   "execution_count": 15,
   "metadata": {
    "scrolled": true
   },
   "outputs": [
    {
     "name": "stderr",
     "output_type": "stream",
     "text": [
      "<ipython-input-15-dcebe0b9e8cb>:2: SettingWithCopyWarning: \n",
      "A value is trying to be set on a copy of a slice from a DataFrame.\n",
      "Try using .loc[row_indexer,col_indexer] = value instead\n",
      "\n",
      "See the caveats in the documentation: https://pandas.pydata.org/pandas-docs/stable/user_guide/indexing.html#returning-a-view-versus-a-copy\n",
      "  page['uniqueid'] = page['uniqueid'].str.split('=', 1).str[1]\n",
      "<ipython-input-15-dcebe0b9e8cb>:3: SettingWithCopyWarning: \n",
      "A value is trying to be set on a copy of a slice from a DataFrame.\n",
      "Try using .loc[row_indexer,col_indexer] = value instead\n",
      "\n",
      "See the caveats in the documentation: https://pandas.pydata.org/pandas-docs/stable/user_guide/indexing.html#returning-a-view-versus-a-copy\n",
      "  page['uniqueid'] = page['uniqueid'].str.split('&', 1).str[0]\n"
     ]
    }
   ],
   "source": [
    "# extract unique id from the URL\n",
    "page['uniqueid'] = page['uniqueid'].str.split('=', 1).str[1]\n",
    "page['uniqueid'] = page['uniqueid'].str.split('&', 1).str[0]"
   ]
  },
  {
   "cell_type": "code",
   "execution_count": 16,
   "metadata": {},
   "outputs": [
    {
     "data": {
      "text/plain": [
       "0        0.548908298878352\n",
       "1      0.04412466234962431\n",
       "2       0.3753349811633586\n",
       "3      0.43052179002676416\n",
       "4       0.5306845270199696\n",
       "              ...         \n",
       "376     0.9737659669854349\n",
       "377     0.9766367046439439\n",
       "378     0.9792503676698106\n",
       "379      0.981891829233072\n",
       "380     0.9820805168612354\n",
       "Name: uniqueid, Length: 381, dtype: object"
      ]
     },
     "execution_count": 16,
     "metadata": {},
     "output_type": "execute_result"
    }
   ],
   "source": [
    "page.uniqueid"
   ]
  },
  {
   "cell_type": "code",
   "execution_count": 17,
   "metadata": {},
   "outputs": [
    {
     "data": {
      "text/plain": [
       "150    /experiment/ab-login_button/d.html#onloadvaria...\n",
       "108    /experiment/ab-login_button/d.html#onloadvaria...\n",
       "76     /experiment/ab-login_button/d.html#onloadvaria...\n",
       "Name: pageViews, dtype: object"
      ]
     },
     "execution_count": 17,
     "metadata": {},
     "output_type": "execute_result"
    }
   ],
   "source": [
    "record['pageViews'].sample(3)"
   ]
  },
  {
   "cell_type": "code",
   "execution_count": 18,
   "metadata": {},
   "outputs": [],
   "source": [
    "# extract records unique id from URL\n",
    "record['pageViews'] = record['pageViews'].str.split('=', 1).str[1]\n",
    "record['pageViews'] = record['pageViews'].str.split('&', 1).str[0]"
   ]
  },
  {
   "cell_type": "code",
   "execution_count": 19,
   "metadata": {},
   "outputs": [
    {
     "data": {
      "text/plain": [
       "217    0.13937094090353797\n",
       "46     0.25773791551994374\n",
       "95       0.981891829233072\n",
       "Name: uniqueid, dtype: object"
      ]
     },
     "execution_count": 19,
     "metadata": {},
     "output_type": "execute_result"
    }
   ],
   "source": [
    "record.rename(columns = {'pageViews': 'uniqueid'}, inplace= True )\n",
    "record['uniqueid'].sample(3)"
   ]
  },
  {
   "cell_type": "code",
   "execution_count": 20,
   "metadata": {},
   "outputs": [],
   "source": [
    "response.rename(columns = {'What is your unique id in this page (the red number)?': 'uniqueid'}, inplace= True )"
   ]
  },
  {
   "cell_type": "code",
   "execution_count": 21,
   "metadata": {},
   "outputs": [
    {
     "data": {
      "text/plain": [
       "0      0.1942976512\n",
       "1       0.590570241\n",
       "2       0.441330743\n",
       "3      0.2285685669\n",
       "4      0.3671576493\n",
       "           ...     \n",
       "518    0.2631959072\n",
       "519    0.2312231593\n",
       "520    0.1953285861\n",
       "521    0.5690302475\n",
       "522    0.6059561764\n",
       "Name: uniqueid, Length: 523, dtype: object"
      ]
     },
     "execution_count": 21,
     "metadata": {},
     "output_type": "execute_result"
    }
   ],
   "source": [
    "response['uniqueid']"
   ]
  },
  {
   "cell_type": "markdown",
   "metadata": {},
   "source": [
    "## Merge Dataframe on unique ID"
   ]
  },
  {
   "cell_type": "code",
   "execution_count": 22,
   "metadata": {
    "scrolled": true
   },
   "outputs": [
    {
     "data": {
      "text/html": [
       "<div>\n",
       "<style scoped>\n",
       "    .dataframe tbody tr th:only-of-type {\n",
       "        vertical-align: middle;\n",
       "    }\n",
       "\n",
       "    .dataframe tbody tr th {\n",
       "        vertical-align: top;\n",
       "    }\n",
       "\n",
       "    .dataframe thead th {\n",
       "        text-align: right;\n",
       "    }\n",
       "</style>\n",
       "<table border=\"1\" class=\"dataframe\">\n",
       "  <thead>\n",
       "    <tr style=\"text-align: right;\">\n",
       "      <th></th>\n",
       "      <th>uniqueid</th>\n",
       "      <th>age</th>\n",
       "      <th>gender</th>\n",
       "      <th>education</th>\n",
       "      <th>freq</th>\n",
       "    </tr>\n",
       "  </thead>\n",
       "  <tbody>\n",
       "    <tr>\n",
       "      <th>237</th>\n",
       "      <td>0.3795034403</td>\n",
       "      <td>25 ~ 34 years old</td>\n",
       "      <td>Male</td>\n",
       "      <td>Bachelor’s degree</td>\n",
       "      <td>At least once a week</td>\n",
       "    </tr>\n",
       "    <tr>\n",
       "      <th>473</th>\n",
       "      <td>0.9788482935</td>\n",
       "      <td>18 ~ 24 years old</td>\n",
       "      <td>Male</td>\n",
       "      <td>Bachelor’s degree</td>\n",
       "      <td>At least once a week</td>\n",
       "    </tr>\n",
       "    <tr>\n",
       "      <th>47</th>\n",
       "      <td>0.02503611548</td>\n",
       "      <td>18 ~ 24 years old</td>\n",
       "      <td>Male</td>\n",
       "      <td>Bachelor’s degree</td>\n",
       "      <td>At least once a month</td>\n",
       "    </tr>\n",
       "  </tbody>\n",
       "</table>\n",
       "</div>"
      ],
      "text/plain": [
       "          uniqueid                age gender          education  \\\n",
       "237   0.3795034403  25 ~ 34 years old   Male  Bachelor’s degree   \n",
       "473   0.9788482935  18 ~ 24 years old   Male  Bachelor’s degree   \n",
       "47   0.02503611548  18 ~ 24 years old   Male  Bachelor’s degree   \n",
       "\n",
       "                      freq  \n",
       "237   At least once a week  \n",
       "473   At least once a week  \n",
       "47   At least once a month  "
      ]
     },
     "execution_count": 22,
     "metadata": {},
     "output_type": "execute_result"
    }
   ],
   "source": [
    "response.sample(3)"
   ]
  },
  {
   "cell_type": "code",
   "execution_count": 23,
   "metadata": {},
   "outputs": [
    {
     "data": {
      "text/html": [
       "<div>\n",
       "<style scoped>\n",
       "    .dataframe tbody tr th:only-of-type {\n",
       "        vertical-align: middle;\n",
       "    }\n",
       "\n",
       "    .dataframe tbody tr th {\n",
       "        vertical-align: top;\n",
       "    }\n",
       "\n",
       "    .dataframe thead th {\n",
       "        text-align: right;\n",
       "    }\n",
       "</style>\n",
       "<table border=\"1\" class=\"dataframe\">\n",
       "  <thead>\n",
       "    <tr style=\"text-align: right;\">\n",
       "      <th></th>\n",
       "      <th>uniqueid</th>\n",
       "      <th>title</th>\n",
       "      <th>views</th>\n",
       "      <th>visitTime</th>\n",
       "      <th>engagementTime</th>\n",
       "      <th>clicks</th>\n",
       "      <th>friction</th>\n",
       "      <th>renderTime</th>\n",
       "      <th>scroll</th>\n",
       "      <th>fold</th>\n",
       "      <th>height</th>\n",
       "      <th>size</th>\n",
       "    </tr>\n",
       "  </thead>\n",
       "  <tbody>\n",
       "    <tr>\n",
       "      <th>143</th>\n",
       "      <td>0.5095627197644916</td>\n",
       "      <td>C</td>\n",
       "      <td>1</td>\n",
       "      <td>30240</td>\n",
       "      <td>25050</td>\n",
       "      <td>9</td>\n",
       "      <td>1.0</td>\n",
       "      <td>849</td>\n",
       "      <td>100</td>\n",
       "      <td>657</td>\n",
       "      <td>766</td>\n",
       "      <td>6623</td>\n",
       "    </tr>\n",
       "    <tr>\n",
       "      <th>298</th>\n",
       "      <td>0.3259801876578776</td>\n",
       "      <td>End</td>\n",
       "      <td>1</td>\n",
       "      <td>31429</td>\n",
       "      <td>8805</td>\n",
       "      <td>0</td>\n",
       "      <td>1.0</td>\n",
       "      <td>3</td>\n",
       "      <td>100</td>\n",
       "      <td>852</td>\n",
       "      <td>852</td>\n",
       "      <td>6564</td>\n",
       "    </tr>\n",
       "    <tr>\n",
       "      <th>73</th>\n",
       "      <td>0.23122315926448223</td>\n",
       "      <td>A</td>\n",
       "      <td>1</td>\n",
       "      <td>2633</td>\n",
       "      <td>2633</td>\n",
       "      <td>1</td>\n",
       "      <td>0.0</td>\n",
       "      <td>9</td>\n",
       "      <td>85</td>\n",
       "      <td>657</td>\n",
       "      <td>766</td>\n",
       "      <td>0</td>\n",
       "    </tr>\n",
       "  </tbody>\n",
       "</table>\n",
       "</div>"
      ],
      "text/plain": [
       "                uniqueid title  views  visitTime  engagementTime  clicks  \\\n",
       "143   0.5095627197644916     C      1      30240           25050       9   \n",
       "298   0.3259801876578776   End      1      31429            8805       0   \n",
       "73   0.23122315926448223     A      1       2633            2633       1   \n",
       "\n",
       "     friction  renderTime  scroll  fold  height  size  \n",
       "143       1.0         849     100   657     766  6623  \n",
       "298       1.0           3     100   852     852  6564  \n",
       "73        0.0           9      85   657     766     0  "
      ]
     },
     "execution_count": 23,
     "metadata": {},
     "output_type": "execute_result"
    }
   ],
   "source": [
    "page.sample(3)"
   ]
  },
  {
   "cell_type": "code",
   "execution_count": 24,
   "metadata": {
    "scrolled": true
   },
   "outputs": [
    {
     "data": {
      "text/html": [
       "<div>\n",
       "<style scoped>\n",
       "    .dataframe tbody tr th:only-of-type {\n",
       "        vertical-align: middle;\n",
       "    }\n",
       "\n",
       "    .dataframe tbody tr th {\n",
       "        vertical-align: top;\n",
       "    }\n",
       "\n",
       "    .dataframe thead th {\n",
       "        text-align: right;\n",
       "    }\n",
       "</style>\n",
       "<table border=\"1\" class=\"dataframe\">\n",
       "  <thead>\n",
       "    <tr style=\"text-align: right;\">\n",
       "      <th></th>\n",
       "      <th>uniqueid</th>\n",
       "      <th>pages</th>\n",
       "      <th>duration</th>\n",
       "      <th>country</th>\n",
       "      <th>browser</th>\n",
       "      <th>os</th>\n",
       "      <th>lng</th>\n",
       "      <th>lat</th>\n",
       "    </tr>\n",
       "  </thead>\n",
       "  <tbody>\n",
       "    <tr>\n",
       "      <th>0</th>\n",
       "      <td>0.37997668604036083</td>\n",
       "      <td>1</td>\n",
       "      <td>10016</td>\n",
       "      <td>us</td>\n",
       "      <td>Chrome</td>\n",
       "      <td>Windows</td>\n",
       "      <td>-73.9183</td>\n",
       "      <td>40.8205</td>\n",
       "    </tr>\n",
       "    <tr>\n",
       "      <th>1</th>\n",
       "      <td>0.4754048878111701</td>\n",
       "      <td>2</td>\n",
       "      <td>26938</td>\n",
       "      <td>in</td>\n",
       "      <td>Chrome</td>\n",
       "      <td>Windows</td>\n",
       "      <td>76.2157</td>\n",
       "      <td>10.5160</td>\n",
       "    </tr>\n",
       "    <tr>\n",
       "      <th>2</th>\n",
       "      <td>0.17865416085343977</td>\n",
       "      <td>1</td>\n",
       "      <td>11486</td>\n",
       "      <td>us</td>\n",
       "      <td>WeChat mobile App</td>\n",
       "      <td>Android</td>\n",
       "      <td>-122.0289</td>\n",
       "      <td>37.5337</td>\n",
       "    </tr>\n",
       "  </tbody>\n",
       "</table>\n",
       "</div>"
      ],
      "text/plain": [
       "              uniqueid  pages  duration country            browser       os  \\\n",
       "0  0.37997668604036083      1     10016      us             Chrome  Windows   \n",
       "1   0.4754048878111701      2     26938      in             Chrome  Windows   \n",
       "2  0.17865416085343977      1     11486      us  WeChat mobile App  Android   \n",
       "\n",
       "        lng      lat  \n",
       "0  -73.9183  40.8205  \n",
       "1   76.2157  10.5160  \n",
       "2 -122.0289  37.5337  "
      ]
     },
     "execution_count": 24,
     "metadata": {},
     "output_type": "execute_result"
    }
   ],
   "source": [
    "record.head(3)"
   ]
  },
  {
   "cell_type": "code",
   "execution_count": 25,
   "metadata": {
    "scrolled": true
   },
   "outputs": [],
   "source": [
    "for i in range(len(record)):\n",
    "    record.iloc[i,0] = record.iloc[i,0][0:11]"
   ]
  },
  {
   "cell_type": "code",
   "execution_count": 26,
   "metadata": {
    "scrolled": true
   },
   "outputs": [
    {
     "name": "stderr",
     "output_type": "stream",
     "text": [
      "D:\\APP\\Anaconda\\lib\\site-packages\\pandas\\core\\indexing.py:1765: SettingWithCopyWarning: \n",
      "A value is trying to be set on a copy of a slice from a DataFrame.\n",
      "Try using .loc[row_indexer,col_indexer] = value instead\n",
      "\n",
      "See the caveats in the documentation: https://pandas.pydata.org/pandas-docs/stable/user_guide/indexing.html#returning-a-view-versus-a-copy\n",
      "  isetter(loc, value)\n"
     ]
    }
   ],
   "source": [
    "for i in range(len(page)):\n",
    "    page.iloc[i,0] = page.iloc[i,0][0:11]"
   ]
  },
  {
   "cell_type": "code",
   "execution_count": 32,
   "metadata": {},
   "outputs": [],
   "source": [
    "for i in range(len(response)):\n",
    "    response.iloc[i,0] = response.iloc[i,0][0:11]"
   ]
  },
  {
   "cell_type": "code",
   "execution_count": 33,
   "metadata": {},
   "outputs": [],
   "source": [
    "df = pd.merge(record, page, how = 'inner', on = 'uniqueid', copy = False)"
   ]
  },
  {
   "cell_type": "code",
   "execution_count": 38,
   "metadata": {
    "scrolled": true
   },
   "outputs": [
    {
     "data": {
      "text/plain": [
       "(361, 19)"
      ]
     },
     "execution_count": 38,
     "metadata": {},
     "output_type": "execute_result"
    }
   ],
   "source": [
    "df.shape"
   ]
  },
  {
   "cell_type": "code",
   "execution_count": 35,
   "metadata": {},
   "outputs": [],
   "source": [
    "df2 = pd.merge(df, response, how = 'inner', on = 'uniqueid', copy = False)"
   ]
  },
  {
   "cell_type": "code",
   "execution_count": 39,
   "metadata": {
    "scrolled": true
   },
   "outputs": [
    {
     "data": {
      "text/plain": [
       "(282, 23)"
      ]
     },
     "execution_count": 39,
     "metadata": {},
     "output_type": "execute_result"
    }
   ],
   "source": [
    "df2.shape"
   ]
  },
  {
   "cell_type": "code",
   "execution_count": 41,
   "metadata": {
    "scrolled": false
   },
   "outputs": [
    {
     "data": {
      "text/html": [
       "<div>\n",
       "<style scoped>\n",
       "    .dataframe tbody tr th:only-of-type {\n",
       "        vertical-align: middle;\n",
       "    }\n",
       "\n",
       "    .dataframe tbody tr th {\n",
       "        vertical-align: top;\n",
       "    }\n",
       "\n",
       "    .dataframe thead th {\n",
       "        text-align: right;\n",
       "    }\n",
       "</style>\n",
       "<table border=\"1\" class=\"dataframe\">\n",
       "  <thead>\n",
       "    <tr style=\"text-align: right;\">\n",
       "      <th></th>\n",
       "      <th>uniqueid</th>\n",
       "      <th>pages</th>\n",
       "      <th>duration</th>\n",
       "      <th>country</th>\n",
       "      <th>browser</th>\n",
       "      <th>os</th>\n",
       "      <th>lng</th>\n",
       "      <th>lat</th>\n",
       "      <th>title</th>\n",
       "      <th>views</th>\n",
       "      <th>...</th>\n",
       "      <th>friction</th>\n",
       "      <th>renderTime</th>\n",
       "      <th>scroll</th>\n",
       "      <th>fold</th>\n",
       "      <th>height</th>\n",
       "      <th>size</th>\n",
       "      <th>age</th>\n",
       "      <th>gender</th>\n",
       "      <th>education</th>\n",
       "      <th>freq</th>\n",
       "    </tr>\n",
       "  </thead>\n",
       "  <tbody>\n",
       "    <tr>\n",
       "      <th>152</th>\n",
       "      <td>0.326262847</td>\n",
       "      <td>1</td>\n",
       "      <td>5133</td>\n",
       "      <td>us</td>\n",
       "      <td>Chrome</td>\n",
       "      <td>Windows</td>\n",
       "      <td>-124.2131</td>\n",
       "      <td>43.4323</td>\n",
       "      <td>B</td>\n",
       "      <td>1</td>\n",
       "      <td>...</td>\n",
       "      <td>1.000000</td>\n",
       "      <td>211</td>\n",
       "      <td>94</td>\n",
       "      <td>722</td>\n",
       "      <td>766</td>\n",
       "      <td>5628</td>\n",
       "      <td>25 ~ 34 years old</td>\n",
       "      <td>Male</td>\n",
       "      <td>Master’s degree</td>\n",
       "      <td>At least once a week</td>\n",
       "    </tr>\n",
       "    <tr>\n",
       "      <th>217</th>\n",
       "      <td>0.821549658</td>\n",
       "      <td>2</td>\n",
       "      <td>47321</td>\n",
       "      <td>us</td>\n",
       "      <td>Chrome</td>\n",
       "      <td>Windows</td>\n",
       "      <td>-118.2529</td>\n",
       "      <td>34.0485</td>\n",
       "      <td>End</td>\n",
       "      <td>1</td>\n",
       "      <td>...</td>\n",
       "      <td>1.000000</td>\n",
       "      <td>107</td>\n",
       "      <td>100</td>\n",
       "      <td>625</td>\n",
       "      <td>625</td>\n",
       "      <td>3621</td>\n",
       "      <td>25 ~ 34 years old</td>\n",
       "      <td>Female</td>\n",
       "      <td>Bachelor’s degree</td>\n",
       "      <td>At least once a week</td>\n",
       "    </tr>\n",
       "    <tr>\n",
       "      <th>63</th>\n",
       "      <td>0.613269392</td>\n",
       "      <td>2</td>\n",
       "      <td>17854</td>\n",
       "      <td>us</td>\n",
       "      <td>Chrome Mobile</td>\n",
       "      <td>Android</td>\n",
       "      <td>-71.0922</td>\n",
       "      <td>42.3427</td>\n",
       "      <td>End</td>\n",
       "      <td>1</td>\n",
       "      <td>...</td>\n",
       "      <td>0.000000</td>\n",
       "      <td>14</td>\n",
       "      <td>100</td>\n",
       "      <td>1786</td>\n",
       "      <td>1786</td>\n",
       "      <td>3539</td>\n",
       "      <td>18 ~ 24 years old</td>\n",
       "      <td>Male</td>\n",
       "      <td>Bachelor’s degree</td>\n",
       "      <td>At least once a week</td>\n",
       "    </tr>\n",
       "    <tr>\n",
       "      <th>3</th>\n",
       "      <td>0.839316985</td>\n",
       "      <td>1</td>\n",
       "      <td>20468</td>\n",
       "      <td>us</td>\n",
       "      <td>Chrome</td>\n",
       "      <td>Windows</td>\n",
       "      <td>-97.8220</td>\n",
       "      <td>37.7510</td>\n",
       "      <td>End</td>\n",
       "      <td>1</td>\n",
       "      <td>...</td>\n",
       "      <td>1.000000</td>\n",
       "      <td>45</td>\n",
       "      <td>100</td>\n",
       "      <td>625</td>\n",
       "      <td>625</td>\n",
       "      <td>3612</td>\n",
       "      <td>18 ~ 24 years old</td>\n",
       "      <td>Female</td>\n",
       "      <td>Bachelor’s degree</td>\n",
       "      <td>At least once a week</td>\n",
       "    </tr>\n",
       "    <tr>\n",
       "      <th>102</th>\n",
       "      <td>0.982080516</td>\n",
       "      <td>2</td>\n",
       "      <td>17433</td>\n",
       "      <td>us</td>\n",
       "      <td>Chrome</td>\n",
       "      <td>Windows</td>\n",
       "      <td>-75.0363</td>\n",
       "      <td>40.0900</td>\n",
       "      <td>End</td>\n",
       "      <td>1</td>\n",
       "      <td>...</td>\n",
       "      <td>1.000000</td>\n",
       "      <td>32</td>\n",
       "      <td>100</td>\n",
       "      <td>625</td>\n",
       "      <td>625</td>\n",
       "      <td>3728</td>\n",
       "      <td>25 ~ 34 years old</td>\n",
       "      <td>Male</td>\n",
       "      <td>Bachelor’s degree</td>\n",
       "      <td>At least once a week</td>\n",
       "    </tr>\n",
       "    <tr>\n",
       "      <th>54</th>\n",
       "      <td>0.311090118</td>\n",
       "      <td>3</td>\n",
       "      <td>40722</td>\n",
       "      <td>us</td>\n",
       "      <td>Safari</td>\n",
       "      <td>macOS</td>\n",
       "      <td>-73.8341</td>\n",
       "      <td>40.9352</td>\n",
       "      <td>End</td>\n",
       "      <td>1</td>\n",
       "      <td>...</td>\n",
       "      <td>0.000000</td>\n",
       "      <td>10</td>\n",
       "      <td>100</td>\n",
       "      <td>760</td>\n",
       "      <td>760</td>\n",
       "      <td>3539</td>\n",
       "      <td>18 ~ 24 years old</td>\n",
       "      <td>Female</td>\n",
       "      <td>Bachelor’s degree</td>\n",
       "      <td>At least once a week</td>\n",
       "    </tr>\n",
       "    <tr>\n",
       "      <th>106</th>\n",
       "      <td>0.769381540</td>\n",
       "      <td>1</td>\n",
       "      <td>4376</td>\n",
       "      <td>us</td>\n",
       "      <td>Chrome</td>\n",
       "      <td>Windows</td>\n",
       "      <td>-115.1446</td>\n",
       "      <td>36.0383</td>\n",
       "      <td>D</td>\n",
       "      <td>1</td>\n",
       "      <td>...</td>\n",
       "      <td>1.000000</td>\n",
       "      <td>0</td>\n",
       "      <td>0</td>\n",
       "      <td>625</td>\n",
       "      <td>0</td>\n",
       "      <td>6169</td>\n",
       "      <td>25 ~ 34 years old</td>\n",
       "      <td>Male</td>\n",
       "      <td>Bachelor’s degree</td>\n",
       "      <td>At least once a week</td>\n",
       "    </tr>\n",
       "    <tr>\n",
       "      <th>91</th>\n",
       "      <td>0.686664348</td>\n",
       "      <td>3</td>\n",
       "      <td>28624</td>\n",
       "      <td>us</td>\n",
       "      <td>Chrome</td>\n",
       "      <td>Windows</td>\n",
       "      <td>-97.6689</td>\n",
       "      <td>30.5154</td>\n",
       "      <td>C</td>\n",
       "      <td>3</td>\n",
       "      <td>...</td>\n",
       "      <td>0.333333</td>\n",
       "      <td>55</td>\n",
       "      <td>95</td>\n",
       "      <td>657</td>\n",
       "      <td>766</td>\n",
       "      <td>6550</td>\n",
       "      <td>25 ~ 34 years old</td>\n",
       "      <td>Male</td>\n",
       "      <td>Bachelor’s degree</td>\n",
       "      <td>At least once a day</td>\n",
       "    </tr>\n",
       "    <tr>\n",
       "      <th>71</th>\n",
       "      <td>0.625803829</td>\n",
       "      <td>2</td>\n",
       "      <td>26611</td>\n",
       "      <td>us</td>\n",
       "      <td>Chrome</td>\n",
       "      <td>Windows</td>\n",
       "      <td>-80.1886</td>\n",
       "      <td>25.7634</td>\n",
       "      <td>C</td>\n",
       "      <td>1</td>\n",
       "      <td>...</td>\n",
       "      <td>0.000000</td>\n",
       "      <td>13</td>\n",
       "      <td>100</td>\n",
       "      <td>657</td>\n",
       "      <td>766</td>\n",
       "      <td>6623</td>\n",
       "      <td>35 ~ 44 years old</td>\n",
       "      <td>Male</td>\n",
       "      <td>Bachelor’s degree</td>\n",
       "      <td>At least once a week</td>\n",
       "    </tr>\n",
       "    <tr>\n",
       "      <th>211</th>\n",
       "      <td>0.845790541</td>\n",
       "      <td>1</td>\n",
       "      <td>30003</td>\n",
       "      <td>us</td>\n",
       "      <td>WeChat mobile App</td>\n",
       "      <td>iOS</td>\n",
       "      <td>-75.1565</td>\n",
       "      <td>39.9195</td>\n",
       "      <td>D</td>\n",
       "      <td>1</td>\n",
       "      <td>...</td>\n",
       "      <td>0.000000</td>\n",
       "      <td>2436</td>\n",
       "      <td>100</td>\n",
       "      <td>1707</td>\n",
       "      <td>1707</td>\n",
       "      <td>10530</td>\n",
       "      <td>25 ~ 34 years old</td>\n",
       "      <td>Female</td>\n",
       "      <td>Master’s degree</td>\n",
       "      <td>At least once a month</td>\n",
       "    </tr>\n",
       "  </tbody>\n",
       "</table>\n",
       "<p>10 rows × 23 columns</p>\n",
       "</div>"
      ],
      "text/plain": [
       "        uniqueid  pages  duration country            browser       os  \\\n",
       "152  0.326262847      1      5133      us             Chrome  Windows   \n",
       "217  0.821549658      2     47321      us             Chrome  Windows   \n",
       "63   0.613269392      2     17854      us      Chrome Mobile  Android   \n",
       "3    0.839316985      1     20468      us             Chrome  Windows   \n",
       "102  0.982080516      2     17433      us             Chrome  Windows   \n",
       "54   0.311090118      3     40722      us             Safari    macOS   \n",
       "106  0.769381540      1      4376      us             Chrome  Windows   \n",
       "91   0.686664348      3     28624      us             Chrome  Windows   \n",
       "71   0.625803829      2     26611      us             Chrome  Windows   \n",
       "211  0.845790541      1     30003      us  WeChat mobile App      iOS   \n",
       "\n",
       "          lng      lat title  views  ...  friction  renderTime  scroll  fold  \\\n",
       "152 -124.2131  43.4323     B      1  ...  1.000000         211      94   722   \n",
       "217 -118.2529  34.0485   End      1  ...  1.000000         107     100   625   \n",
       "63   -71.0922  42.3427   End      1  ...  0.000000          14     100  1786   \n",
       "3    -97.8220  37.7510   End      1  ...  1.000000          45     100   625   \n",
       "102  -75.0363  40.0900   End      1  ...  1.000000          32     100   625   \n",
       "54   -73.8341  40.9352   End      1  ...  0.000000          10     100   760   \n",
       "106 -115.1446  36.0383     D      1  ...  1.000000           0       0   625   \n",
       "91   -97.6689  30.5154     C      3  ...  0.333333          55      95   657   \n",
       "71   -80.1886  25.7634     C      1  ...  0.000000          13     100   657   \n",
       "211  -75.1565  39.9195     D      1  ...  0.000000        2436     100  1707   \n",
       "\n",
       "     height   size                age  gender          education  \\\n",
       "152     766   5628  25 ~ 34 years old    Male    Master’s degree   \n",
       "217     625   3621  25 ~ 34 years old  Female  Bachelor’s degree   \n",
       "63     1786   3539  18 ~ 24 years old    Male  Bachelor’s degree   \n",
       "3       625   3612  18 ~ 24 years old  Female  Bachelor’s degree   \n",
       "102     625   3728  25 ~ 34 years old    Male  Bachelor’s degree   \n",
       "54      760   3539  18 ~ 24 years old  Female  Bachelor’s degree   \n",
       "106       0   6169  25 ~ 34 years old    Male  Bachelor’s degree   \n",
       "91      766   6550  25 ~ 34 years old    Male  Bachelor’s degree   \n",
       "71      766   6623  35 ~ 44 years old    Male  Bachelor’s degree   \n",
       "211    1707  10530  25 ~ 34 years old  Female    Master’s degree   \n",
       "\n",
       "                      freq  \n",
       "152   At least once a week  \n",
       "217   At least once a week  \n",
       "63    At least once a week  \n",
       "3     At least once a week  \n",
       "102   At least once a week  \n",
       "54    At least once a week  \n",
       "106   At least once a week  \n",
       "91     At least once a day  \n",
       "71    At least once a week  \n",
       "211  At least once a month  \n",
       "\n",
       "[10 rows x 23 columns]"
      ]
     },
     "execution_count": 41,
     "metadata": {},
     "output_type": "execute_result"
    }
   ],
   "source": [
    "df2.sample(10)"
   ]
  },
  {
   "cell_type": "code",
   "execution_count": 43,
   "metadata": {},
   "outputs": [],
   "source": [
    "df2.to_csv('Cleaned_data.csv')"
   ]
  },
  {
   "cell_type": "code",
   "execution_count": null,
   "metadata": {},
   "outputs": [],
   "source": []
  }
 ],
 "metadata": {
  "kernelspec": {
   "display_name": "Python 3",
   "language": "python",
   "name": "python3"
  },
  "language_info": {
   "codemirror_mode": {
    "name": "ipython",
    "version": 3
   },
   "file_extension": ".py",
   "mimetype": "text/x-python",
   "name": "python",
   "nbconvert_exporter": "python",
   "pygments_lexer": "ipython3",
   "version": "3.8.5"
  }
 },
 "nbformat": 4,
 "nbformat_minor": 4
}
